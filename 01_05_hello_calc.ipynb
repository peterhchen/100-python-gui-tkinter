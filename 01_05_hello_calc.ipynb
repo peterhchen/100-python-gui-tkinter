{
 "cells": [
  {
   "cell_type": "markdown",
   "id": "cc05a942",
   "metadata": {},
   "source": [
    "# 01-05_hello_calc.ipynb\n",
    "\n",
    "https://www.youtube.com/watch?v=yQSEXcf6s2I&list=PLCC34OHNcOtoC6GglhF3ncJ5rLwQrLGnV\n",
    "\n",
    "We use ikinter to program the Pyhton GUI.\n",
    "tkinter Modules is very easy for GUI (Graphical User Interface).\n",
    "\n",
    "To intall tkinter under anaconda \n",
    "> conda install tkinter\n",
    "\n",
    "or in Linux or Windows\n",
    "\n",
    "> pip install tkinter \n",
    "\n",
    "To user tkinter, we just need to import the following:\n",
    "\n",
    "from tkinter import *\n",
    "\n",
    "We import everthing (*)."
   ]
  },
  {
   "cell_type": "markdown",
   "id": "e29ae928",
   "metadata": {},
   "source": [
    "# 01_hello.py: python tkinter is a GUI tool from TCL/TK.\n",
    "\n",
    "- We call the root is the root widget (or root window) created by class Tk().\n",
    "\n",
    "root = Tk() \n",
    "\n",
    "- Then, we create a label widget called myLabel with text \"Hello World!\" inside. \n",
    "- Then, we put the label under the root widget (root window).\n",
    "- Then, we need to pack() teh label. We can use grid() method. Right now, we just use pack().\n",
    "- The last thing we do is to create an event loop. It is a constant loop for mouse, cick button, and etc.\n",
    "- In tkinter, everthing is widget, such as, root widget widget, window widget, button widget, list widget, text widdget, and etc."
   ]
  },
  {
   "cell_type": "code",
   "execution_count": 5,
   "id": "8d4e1e22",
   "metadata": {},
   "outputs": [],
   "source": [
    "from tkinter import *\n",
    "\n",
    "# TK always start with a root.\n",
    "root = Tk()\n",
    "# create a label widget\n",
    "myLabel = Label(root, text=\"Hello World!\")\n",
    "# Put the widget in the window\n",
    "# shoving it onto the screen.\n",
    "myLabel.pack()\n",
    "\n",
    "# last thing we do is to create an event loop.\n",
    "# When you have a GUI running, it loops for mouse, \n",
    "# click button, It is a constant loop.\n",
    "root.mainloop()\n",
    "# to execute it\n",
    "# Python 01_hello.py\n",
    "# You can resize and click the blank area to move the window."
   ]
  },
  {
   "attachments": {
    "image.png": {
     "image/png": "[encoded data removed]"
    }
   },
   "cell_type": "markdown",
   "id": "81b23504",
   "metadata": {},
   "source": [
    "# 01_hello.py Result\n",
    "\n",
    "- Run the above code, we have the result as below.\n",
    "\n",
    "![image.png](attachment:image.png)"
   ]
  },
  {
   "cell_type": "code",
   "execution_count": null,
   "id": "ab60b702",
   "metadata": {},
   "outputs": [],
   "source": []
  }
 ],
 "metadata": {
  "kernelspec": {
   "display_name": "Python 3",
   "language": "python",
   "name": "python3"
  },
  "language_info": {
   "codemirror_mode": {
    "name": "ipython",
    "version": 3
   },
   "file_extension": ".py",
   "mimetype": "text/x-python",
   "name": "python",
   "nbconvert_exporter": "python",
   "pygments_lexer": "ipython3",
   "version": "3.8.8"
  }
 },
 "nbformat": 4,
 "nbformat_minor": 5
}
